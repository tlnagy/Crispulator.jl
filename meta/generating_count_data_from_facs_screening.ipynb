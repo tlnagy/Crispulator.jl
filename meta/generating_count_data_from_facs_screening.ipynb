{
 "cells": [
  {
   "cell_type": "markdown",
   "metadata": {},
   "source": [
    "## Objective\n",
    "\n",
    "Here is the example how you generated a read count matrix from FACS simulation"
   ]
  },
  {
   "cell_type": "code",
   "execution_count": 32,
   "metadata": {
    "collapsed": true
   },
   "outputs": [
    {
     "name": "stderr",
     "output_type": "stream",
     "text": [
      "\u001b[1m\u001b[36mINFO: \u001b[39m\u001b[22m\u001b[36mPrecompiling module Suppressor.\n",
      "\u001b[39m\u001b[1m\u001b[33mWARNING: \u001b[39m\u001b[22m\u001b[33mModule Compat with uuid 191064093738522 is missing from the cache.\n",
      "This may mean module Compat does not support precompilation but is imported by a module that does.\u001b[39m\n",
      "\u001b[1m\u001b[91mERROR: \u001b[39m\u001b[22mLoadError: \u001b[91mDeclaring __precompile__(false) is not allowed in files that are being precompiled.\u001b[39m\n",
      "Stacktrace:\n",
      " [1] \u001b[1m_require\u001b[22m\u001b[22m\u001b[1m(\u001b[22m\u001b[22m::Symbol\u001b[1m)\u001b[22m\u001b[22m at \u001b[1m./loading.jl:448\u001b[22m\u001b[22m\n",
      " [2] \u001b[1mrequire\u001b[22m\u001b[22m\u001b[1m(\u001b[22m\u001b[22m::Symbol\u001b[1m)\u001b[22m\u001b[22m at \u001b[1m./loading.jl:398\u001b[22m\u001b[22m\n",
      " [3] \u001b[1minclude_from_node1\u001b[22m\u001b[22m\u001b[1m(\u001b[22m\u001b[22m::String\u001b[1m)\u001b[22m\u001b[22m at \u001b[1m./loading.jl:569\u001b[22m\u001b[22m\n",
      " [4] \u001b[1minclude\u001b[22m\u001b[22m\u001b[1m(\u001b[22m\u001b[22m::String\u001b[1m)\u001b[22m\u001b[22m at \u001b[1m./sysimg.jl:14\u001b[22m\u001b[22m\n",
      " [5] \u001b[1manonymous\u001b[22m\u001b[22m at \u001b[1m./<missing>:2\u001b[22m\u001b[22m\n",
      "while loading /Users/hwan/.julia/v0.6/Suppressor/src/Suppressor.jl, in expression starting on line 4\n"
     ]
    },
    {
     "ename": "LoadError",
     "evalue": "\u001b[91mFailed to precompile Suppressor to /Users/hwan/.julia/lib/v0.6/Suppressor.ji.\u001b[39m",
     "output_type": "error",
     "traceback": [
      "\u001b[91mFailed to precompile Suppressor to /Users/hwan/.julia/lib/v0.6/Suppressor.ji.\u001b[39m",
      "",
      "Stacktrace:",
      " [1] \u001b[1mcompilecache\u001b[22m\u001b[22m\u001b[1m(\u001b[22m\u001b[22m::String\u001b[1m)\u001b[22m\u001b[22m at \u001b[1m./loading.jl:703\u001b[22m\u001b[22m",
      " [2] \u001b[1m_require\u001b[22m\u001b[22m\u001b[1m(\u001b[22m\u001b[22m::Symbol\u001b[1m)\u001b[22m\u001b[22m at \u001b[1m./loading.jl:490\u001b[22m\u001b[22m",
      " [3] \u001b[1mrequire\u001b[22m\u001b[22m\u001b[1m(\u001b[22m\u001b[22m::Symbol\u001b[1m)\u001b[22m\u001b[22m at \u001b[1m./loading.jl:398\u001b[22m\u001b[22m",
      " [4] \u001b[1minclude_string\u001b[22m\u001b[22m\u001b[1m(\u001b[22m\u001b[22m::String, ::String\u001b[1m)\u001b[22m\u001b[22m at \u001b[1m./loading.jl:515\u001b[22m\u001b[22m"
     ]
    }
   ],
   "source": [
    "using DataFrames\n",
    "using Gadfly\n",
    "using ColorBrewer"
   ]
  },
  {
   "cell_type": "markdown",
   "metadata": {},
   "source": [
    "I didn't find way to import `Crispulator` package, so I manually include several `.jl` files which I need to use. I toggled the output of below code off because many **WARNING** messages were generated, and these messages are not very informative."
   ]
  },
  {
   "cell_type": "code",
   "execution_count": 33,
   "metadata": {
    "collapsed": true
   },
   "outputs": [
    {
     "name": "stderr",
     "output_type": "stream",
     "text": [
      "\u001b[1m\u001b[33mWARNING: \u001b[39m\u001b[22m\u001b[33mreplacing docs for 'ls :: Tuple{}' in module 'Main'.\u001b[39m\n",
      "\u001b[1m\u001b[33mWARNING: \u001b[39m\u001b[22m\u001b[33mreplacing docs for 'bootstrap_exp :: Tuple{String,String,Int64,Bool}' in module 'Main'.\u001b[39m\n",
      "\u001b[1m\u001b[33mWARNING: \u001b[39m\u001b[22m\u001b[33mreplacing docs for 'bootstrap_config :: Tuple{String,String,Bool}' in module 'Main'.\u001b[39m\n",
      "\u001b[1m\u001b[33mWARNING: \u001b[39m\u001b[22m\u001b[33mreplacing docs for 'Barcode :: Union{}' in module 'Main'.\u001b[39m\n",
      "\u001b[1m\u001b[33mWARNING: \u001b[39m\u001b[22m\u001b[33mreplacing docs for 'ScreenSetup :: Union{}' in module 'Main'.\u001b[39m\n",
      "\u001b[1m\u001b[33mWARNING: \u001b[39m\u001b[22m\u001b[33mreplacing docs for 'run_exp :: Tuple{ScreenSetup,Library,Function}' in module 'Main'.\u001b[39m\n",
      "\u001b[1m\u001b[33mWARNING: \u001b[39m\u001b[22m\u001b[33mreplacing docs for 'sigmoid :: Tuple{Float64,Any,Any,Any}' in module 'Main'.\u001b[39m\n",
      "\u001b[1m\u001b[33mWARNING: \u001b[39m\u001b[22m\u001b[33mreplacing docs for 'linear :: Tuple{Any,Any}' in module 'Main'.\u001b[39m\n",
      "\u001b[1m\u001b[33mWARNING: \u001b[39m\u001b[22m\u001b[33mreplacing docs for 'Library :: Union{}' in module 'Main'.\u001b[39m\n",
      "\u001b[1m\u001b[33mWARNING: \u001b[39m\u001b[22m\u001b[33mreplacing docs for 'construct_library :: Tuple{ScreenSetup,Library}' in module 'Main'.\u001b[39m\n",
      "\u001b[1m\u001b[33mWARNING: \u001b[39m\u001b[22m\u001b[33mreplacing docs for 'Delta :: Union{}' in module 'Main'.\u001b[39m\n",
      "\u001b[1m\u001b[36mINFO: \u001b[39m\u001b[22m\u001b[36mLoading simulation framework\n",
      "\u001b[39m\u001b[1m\u001b[33mWARNING: \u001b[39m\u001b[22m\u001b[33mreplacing docs for 'Barcode :: Union{}' in module 'Main'.\u001b[39m\n",
      "\u001b[1m\u001b[33mWARNING: \u001b[39m\u001b[22m\u001b[33mreplacing docs for 'ScreenSetup :: Union{}' in module 'Main'.\u001b[39m\n",
      "\u001b[1m\u001b[33mWARNING: \u001b[39m\u001b[22m\u001b[33mreplacing docs for 'auroc :: Tuple{AbstractArray{Float64,N} where N,AbstractArray{Symbol,N} where N,Set{Symbol}}' in module 'Main'.\u001b[39m\n",
      "\u001b[1m\u001b[33mWARNING: \u001b[39m\u001b[22m\u001b[33mreplacing docs for 'auprc :: Tuple{AbstractArray{Float64,N} where N,AbstractArray{Symbol,N} where N,Set{Symbol}}' in module 'Main'.\u001b[39m\n",
      "\u001b[1m\u001b[33mWARNING: \u001b[39m\u001b[22m\u001b[33mreplacing docs for 'venn :: Tuple{AbstractArray{Float64,N} where N,AbstractArray{Symbol,N} where N,Set{Symbol}}' in module 'Main'.\u001b[39m\n",
      "\u001b[1m\u001b[33mWARNING: \u001b[39m\u001b[22m\u001b[33mreplacing docs for 'noise :: Tuple{DataFrames.DataFrame}' in module 'Main'.\u001b[39m\n",
      "\u001b[1m\u001b[33mWARNING: \u001b[39m\u001b[22m\u001b[33mreplacing docs for 'signal :: Tuple{DataFrames.DataFrame}' in module 'Main'.\u001b[39m\n",
      "\u001b[1m\u001b[33mWARNING: \u001b[39m\u001b[22m\u001b[33mreplacing docs for 'sigmoid :: Tuple{Float64,Any,Any,Any}' in module 'Main'.\u001b[39m\n",
      "\u001b[1m\u001b[33mWARNING: \u001b[39m\u001b[22m\u001b[33mreplacing docs for 'linear :: Tuple{Any,Any}' in module 'Main'.\u001b[39m\n",
      "\u001b[1m\u001b[33mWARNING: \u001b[39m\u001b[22m\u001b[33mreplacing docs for 'Library :: Union{}' in module 'Main'.\u001b[39m\n",
      "\u001b[1m\u001b[33mWARNING: \u001b[39m\u001b[22m\u001b[33mreplacing docs for 'construct_library :: Tuple{ScreenSetup,Library}' in module 'Main'.\u001b[39m\n",
      "\u001b[1m\u001b[33mWARNING: \u001b[39m\u001b[22m\u001b[33mreplacing docs for 'Delta :: Union{}' in module 'Main'.\u001b[39m\n",
      "\u001b[1m\u001b[33mWARNING: \u001b[39m\u001b[22m\u001b[33mreplacing docs for 'Base.Sort.select :: Tuple{FacsScreen,Array{Int64,1},Array{Float64,1},Array{Barcode,1}}' in module 'Main'.\u001b[39m\n",
      "\u001b[1m\u001b[33mWARNING: \u001b[39m\u001b[22m\u001b[33mreplacing docs for 'Base.Sort.select :: Tuple{GrowthScreen,AbstractArray{Int64,N} where N,AbstractArray{Float64,N} where N,Array{Barcode,1}}' in module 'Main'.\u001b[39m\n",
      "\u001b[1m\u001b[33mWARNING: \u001b[39m\u001b[22m\u001b[33mreplacing docs for 'run_exp :: Tuple{ScreenSetup,Library,Function}' in module 'Main'.\u001b[39m\n",
      "\u001b[1m\u001b[33mWARNING: \u001b[39m\u001b[22m\u001b[33mreplacing docs for 'Base.Sort.select :: Tuple{FacsScreen,Array{Int64,1},Array{Float64,1},Array{Barcode,1}}' in module 'Main'.\u001b[39m\n",
      "\u001b[1m\u001b[33mWARNING: \u001b[39m\u001b[22m\u001b[33mreplacing docs for 'Base.Sort.select :: Tuple{GrowthScreen,AbstractArray{Int64,N} where N,AbstractArray{Float64,N} where N,Array{Barcode,1}}' in module 'Main'.\u001b[39m\n",
      "\u001b[1m\u001b[33mWARNING: \u001b[39m\u001b[22m\u001b[33mreplacing docs for 'auroc :: Tuple{AbstractArray{Float64,N} where N,AbstractArray{Symbol,N} where N,Set{Symbol}}' in module 'Main'.\u001b[39m\n",
      "\u001b[1m\u001b[33mWARNING: \u001b[39m\u001b[22m\u001b[33mreplacing docs for 'auprc :: Tuple{AbstractArray{Float64,N} where N,AbstractArray{Symbol,N} where N,Set{Symbol}}' in module 'Main'.\u001b[39m\n",
      "\u001b[1m\u001b[33mWARNING: \u001b[39m\u001b[22m\u001b[33mreplacing docs for 'venn :: Tuple{AbstractArray{Float64,N} where N,AbstractArray{Symbol,N} where N,Set{Symbol}}' in module 'Main'.\u001b[39m\n",
      "\u001b[1m\u001b[33mWARNING: \u001b[39m\u001b[22m\u001b[33mreplacing docs for 'noise :: Tuple{DataFrames.DataFrame}' in module 'Main'.\u001b[39m\n",
      "\u001b[1m\u001b[33mWARNING: \u001b[39m\u001b[22m\u001b[33mreplacing docs for 'signal :: Tuple{DataFrames.DataFrame}' in module 'Main'.\u001b[39m\n"
     ]
    }
   ],
   "source": [
    "include(joinpath(Pkg.dir(\"Crispulator\"), \"src\", \"run.jl\"));\n",
    "for file in readdir(joinpath(Pkg.dir(\"Crispulator\"), \"src/simulation/\"))\n",
    "    include(joinpath(Pkg.dir(\"Crispulator\"), \"src/simulation/\",file));\n",
    "end"
   ]
  },
  {
   "cell_type": "code",
   "execution_count": 22,
   "metadata": {
    "collapsed": true
   },
   "outputs": [],
   "source": [
    "facs_param = FacsScreen()\n",
    "facs_param.num_genes = 5000\n",
    "facs_param.coverage = 10\n",
    "facs_param.representation = 100\n",
    "facs_param.bin_info[:bin1] = (0, 0.25)\n",
    "facs_param.bin_info[:bin2] = (0.75, 1)\n",
    "facs_param.seq_depth = 300\n",
    "lib = Library(CRISPRn());"
   ]
  },
  {
   "cell_type": "code",
   "execution_count": 21,
   "metadata": {
    "collapsed": true
   },
   "outputs": [],
   "source": [
    "guides, guide_freqs_dist = construct_library(facs_param, lib)\n",
    "\n",
    "cells, cell_phenotypes = transfect(facs_param, lib, guides, guide_freqs_dist)\n",
    "bin_cells = select(facs_param, cells, cell_phenotypes, guides)\n",
    "freqs = counts_to_freqs(bin_cells, length(guides))\n",
    "\n",
    "seq_depths = Dict{Symbol, Int}()\n",
    "for binname in keys(bin_cells)\n",
    "    seq_depths[binname] = rand(Poisson(facs_param.seq_depth))\n",
    "end\n",
    "\n",
    "raw_data = sequencing(seq_depths, guides, freqs)\n",
    "bc_counts, genes = differences_between_bins(raw_data);"
   ]
  },
  {
   "cell_type": "markdown",
   "metadata": {},
   "source": [
    "Let's see the what is inside of `bc_count`, and you will see `counts_bin1` and `counts_bin2` are there."
   ]
  },
  {
   "cell_type": "code",
   "execution_count": 66,
   "metadata": {},
   "outputs": [
    {
     "data": {
      "text/html": [
       "<table class=\"data-frame\"><thead><tr><th></th><th>gene</th><th>knockdown</th><th>theo_phenotype</th><th>obs_phenotype</th><th>behavior</th><th>class</th><th>initial_freq</th><th>counts_bin1</th><th>barcodeid</th><th>freqs_bin1</th><th>rel_freqs_bin1</th><th>freqs_bin2</th><th>counts_bin2</th><th>rel_freqs_bin2</th><th>log2fc_bin2</th></tr></thead><tbody><tr><th>1</th><td>1</td><td>1.0</td><td>-0.5847940518212458</td><td>1.5315331799079293</td><td>sigmoidal</td><td>decreasing</td><td>1.3353864043282956e-5</td><td>266.5</td><td>1</td><td>1.7796327212020033e-5</td><td>1.1663019693654266</td><td>7.79436152570481e-6</td><td>117.5</td><td>0.5032119914346895</td><td>-1.2127031608457683</td></tr><tr><th>2</th><td>1</td><td>1.0</td><td>-0.5847940518212458</td><td>0.24368971306921755</td><td>sigmoidal</td><td>decreasing</td><td>2.9789389019631208e-5</td><td>662.5</td><td>2</td><td>4.424040066777963e-5</td><td>2.899343544857768</td><td>1.6948590381426202e-5</td><td>255.5</td><td>1.094218415417559</td><td>-1.4058255480518944</td></tr><tr><th>3</th><td>1</td><td>1.0</td><td>-0.5847940518212458</td><td>1.1692611210741393</td><td>sigmoidal</td><td>decreasing</td><td>1.0272203110217658e-5</td><td>244.5</td><td>3</td><td>1.6327212020033388e-5</td><td>1.0700218818380742</td><td>8.325041459369818e-6</td><td>125.5</td><td>0.537473233404711</td><td>-0.9933754856530536</td></tr><tr><th>4</th><td>1</td><td>1.0</td><td>-0.5847940518212458</td><td>-0.6686127470373375</td><td>sigmoidal</td><td>decreasing</td><td>1.3353864043282956e-5</td><td>335.5</td><td>4</td><td>2.2404006677796328e-5</td><td>1.4682713347921226</td><td>8.45771144278607e-6</td><td>127.5</td><td>0.5460385438972163</td><td>-1.4270439039929177</td></tr><tr><th>5</th><td>1</td><td>1.0</td><td>-0.5847940518212458</td><td>1.2254914506981038</td><td>sigmoidal</td><td>decreasing</td><td>5.3415456173131823e-5</td><td>1283.5</td><td>5</td><td>8.570951585976628e-5</td><td>5.617067833698031</td><td>2.6898839137645108e-5</td><td>405.5</td><td>1.7366167023554604</td><td>-1.6935378610097376</td></tr><tr><th>6</th><td>1</td><td>1.0</td><td>-0.5847940518212458</td><td>-0.6330632740161447</td><td>sigmoidal</td><td>decreasing</td><td>7.601430301561067e-5</td><td>1704.5</td><td>6</td><td>0.00011382303839732888</td><td>7.4595185995623625</td><td>4.076285240464345e-5</td><td>614.5</td><td>2.63169164882227</td><td>-1.5030920684188764</td></tr></tbody></table>"
      ],
      "text/plain": [
       "6×15 DataFrames.DataFrame\n",
       "│ Row │ gene │ knockdown │ theo_phenotype │ obs_phenotype │ behavior  │\n",
       "├─────┼──────┼───────────┼────────────────┼───────────────┼───────────┤\n",
       "│ 1   │ 1    │ 1.0       │ -0.584794      │ 1.53153       │ sigmoidal │\n",
       "│ 2   │ 1    │ 1.0       │ -0.584794      │ 0.24369       │ sigmoidal │\n",
       "│ 3   │ 1    │ 1.0       │ -0.584794      │ 1.16926       │ sigmoidal │\n",
       "│ 4   │ 1    │ 1.0       │ -0.584794      │ -0.668613     │ sigmoidal │\n",
       "│ 5   │ 1    │ 1.0       │ -0.584794      │ 1.22549       │ sigmoidal │\n",
       "│ 6   │ 1    │ 1.0       │ -0.584794      │ -0.633063     │ sigmoidal │\n",
       "\n",
       "│ Row │ class      │ initial_freq │ counts_bin1 │ barcodeid │ freqs_bin1  │\n",
       "├─────┼────────────┼──────────────┼─────────────┼───────────┼─────────────┤\n",
       "│ 1   │ decreasing │ 1.33539e-5   │ 266.5       │ 1         │ 1.77963e-5  │\n",
       "│ 2   │ decreasing │ 2.97894e-5   │ 662.5       │ 2         │ 4.42404e-5  │\n",
       "│ 3   │ decreasing │ 1.02722e-5   │ 244.5       │ 3         │ 1.63272e-5  │\n",
       "│ 4   │ decreasing │ 1.33539e-5   │ 335.5       │ 4         │ 2.2404e-5   │\n",
       "│ 5   │ decreasing │ 5.34155e-5   │ 1283.5      │ 5         │ 8.57095e-5  │\n",
       "│ 6   │ decreasing │ 7.60143e-5   │ 1704.5      │ 6         │ 0.000113823 │\n",
       "\n",
       "│ Row │ rel_freqs_bin1 │ freqs_bin2 │ counts_bin2 │ rel_freqs_bin2 │\n",
       "├─────┼────────────────┼────────────┼─────────────┼────────────────┤\n",
       "│ 1   │ 1.1663         │ 7.79436e-6 │ 117.5       │ 0.503212       │\n",
       "│ 2   │ 2.89934        │ 1.69486e-5 │ 255.5       │ 1.09422        │\n",
       "│ 3   │ 1.07002        │ 8.32504e-6 │ 125.5       │ 0.537473       │\n",
       "│ 4   │ 1.46827        │ 8.45771e-6 │ 127.5       │ 0.546039       │\n",
       "│ 5   │ 5.61707        │ 2.68988e-5 │ 405.5       │ 1.73662        │\n",
       "│ 6   │ 7.45952        │ 4.07629e-5 │ 614.5       │ 2.63169        │\n",
       "\n",
       "│ Row │ log2fc_bin2 │\n",
       "├─────┼─────────────┤\n",
       "│ 1   │ -1.2127     │\n",
       "│ 2   │ -1.40583    │\n",
       "│ 3   │ -0.993375   │\n",
       "│ 4   │ -1.42704    │\n",
       "│ 5   │ -1.69354    │\n",
       "│ 6   │ -1.50309    │"
      ]
     },
     "execution_count": 66,
     "metadata": {},
     "output_type": "execute_result"
    }
   ],
   "source": [
    "head(bc_counts)"
   ]
  },
  {
   "cell_type": "code",
   "execution_count": 65,
   "metadata": {},
   "outputs": [
    {
     "data": {
      "text/html": [
       "<table class=\"data-frame\"><thead><tr><th></th><th>gene</th><th>barcodeid</th><th>counts_bin1</th><th>counts_bin2</th></tr></thead><tbody><tr><th>1</th><td>1</td><td>1</td><td>266.0</td><td>117.0</td></tr><tr><th>2</th><td>1</td><td>2</td><td>662.0</td><td>255.0</td></tr><tr><th>3</th><td>1</td><td>3</td><td>244.0</td><td>125.0</td></tr><tr><th>4</th><td>1</td><td>4</td><td>335.0</td><td>127.0</td></tr><tr><th>5</th><td>1</td><td>5</td><td>1283.0</td><td>405.0</td></tr><tr><th>6</th><td>1</td><td>6</td><td>1704.0</td><td>614.0</td></tr></tbody></table>"
      ],
      "text/plain": [
       "6×4 DataFrames.DataFrame\n",
       "│ Row │ gene │ barcodeid │ counts_bin1 │ counts_bin2 │\n",
       "├─────┼──────┼───────────┼─────────────┼─────────────┤\n",
       "│ 1   │ 1    │ 1         │ 266.0       │ 117.0       │\n",
       "│ 2   │ 1    │ 2         │ 662.0       │ 255.0       │\n",
       "│ 3   │ 1    │ 3         │ 244.0       │ 125.0       │\n",
       "│ 4   │ 1    │ 4         │ 335.0       │ 127.0       │\n",
       "│ 5   │ 1    │ 5         │ 1283.0      │ 405.0       │\n",
       "│ 6   │ 1    │ 6         │ 1704.0      │ 614.0       │"
      ]
     },
     "execution_count": 65,
     "metadata": {},
     "output_type": "execute_result"
    }
   ],
   "source": [
    "sgRNA_readcount = bc_counts[[:gene,:barcodeid,:counts_bin1,:counts_bin2]];\n",
    "# a pseudocount of 0.5 added to every count value. \n",
    "# It was a prevention of numerical error when we calculate log2FC\n",
    "sgRNA_readcount[:counts_bin1] -= 0.5;\n",
    "sgRNA_readcount[:counts_bin2] -= 0.5;\n",
    "head(sgRNA_readcount) # gotcha?"
   ]
  }
 ],
 "metadata": {
  "kernelspec": {
   "display_name": "Julia 0.6.0",
   "language": "julia",
   "name": "julia-0.6"
  },
  "language_info": {
   "file_extension": ".jl",
   "mimetype": "application/julia",
   "name": "julia",
   "version": "0.6.0"
  }
 },
 "nbformat": 4,
 "nbformat_minor": 1
}
