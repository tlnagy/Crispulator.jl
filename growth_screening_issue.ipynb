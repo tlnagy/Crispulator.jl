{
 "cells": [
  {
   "cell_type": "code",
   "execution_count": 1,
   "metadata": {},
   "outputs": [
    {
     "name": "stderr",
     "output_type": "stream",
     "text": [
      "\u001b[1m\u001b[36mINFO: \u001b[39m\u001b[22m\u001b[36mLoading simulation framework\n",
      "\u001b[39m"
     ]
    },
    {
     "data": {
      "text/plain": [
       "transfect (generic function with 2 methods)"
      ]
     },
     "execution_count": 1,
     "metadata": {},
     "output_type": "execute_result"
    }
   ],
   "source": [
    "include(joinpath(Pkg.dir(\"Crispulator\"), \"src\", \"simulation\", \"load.jl\"))\n",
    "include(joinpath(Pkg.dir(\"Crispulator\"), \"src\", \"simulation\", \"common.jl\"))\n",
    "include(joinpath(Pkg.dir(\"Crispulator\"), \"src\", \"simulation\", \"utils.jl\"))\n",
    "include(joinpath(Pkg.dir(\"Crispulator\"), \"src\", \"simulation\", \"library.jl\"))\n",
    "include(joinpath(Pkg.dir(\"Crispulator\"), \"src\", \"simulation\", \"designs.jl\"))\n",
    "include(joinpath(Pkg.dir(\"Crispulator\"), \"src\", \"simulation\", \"processing.jl\"))\n",
    "include(joinpath(Pkg.dir(\"Crispulator\"), \"src\", \"simulation\", \"selection.jl\"))\n",
    "include(joinpath(Pkg.dir(\"Crispulator\"), \"src\", \"simulation\", \"sequencing.jl\"))\n",
    "include(joinpath(Pkg.dir(\"Crispulator\"), \"src\", \"simulation\", \"transfection.jl\"))"
   ]
  },
  {
   "cell_type": "code",
   "execution_count": 60,
   "metadata": {},
   "outputs": [],
   "source": [
    "pheno_prob = 0.4\n",
    "growth_param = GrowthScreen()\n",
    "growth_param.num_genes = 10\n",
    "growth_param.coverage = 3\n",
    "growth_param.representation = 1000\n",
    "growth_param.seq_depth = 1000\n",
    "growth_param.noise = 0.1\n",
    "max_phenotype_dists = Dict{Symbol, Tuple{Float64, Sampleable}}(\n",
    "    :inactive => (1-0.05-pheno_prob, Delta(0.0)),\n",
    "    :negcontrol => (0.05, Delta(0.0)),\n",
    "    :increasing => (pheno_prob/2, TruncatedNormal(0.1, 0.1, 0.025, 1)),\n",
    "    :decreasing => (pheno_prob/2, TruncatedNormal(-0.55, 0.2, -1, -0.1))\n",
    ")\n",
    "\n",
    "lib = Library(max_phenotype_dists, CRISPRn())\n",
    "guides, guide_freqs_dist = construct_library(growth_param, lib);"
   ]
  },
  {
   "cell_type": "code",
   "execution_count": 64,
   "metadata": {},
   "outputs": [],
   "source": [
    "cells, cell_phenotypes = transfect(growth_param, lib, guides, guide_freqs_dist)\n",
    "bin_cells = select(growth_param, cells, cell_phenotypes, guides)\n",
    "freqs = counts_to_freqs(bin_cells, length(guides))\n",
    "\n",
    "seq_depths = Dict{Symbol, Int}()\n",
    "for binname in keys(bin_cells)\n",
    "    seq_depths[binname] = rand(Poisson(growth_param.seq_depth))\n",
    "end\n",
    "\n",
    "raw_data = sequencing(seq_depths, guides, freqs)\n",
    "bc_counts, genes = differences_between_bins(raw_data);"
   ]
  },
  {
   "cell_type": "code",
   "execution_count": 65,
   "metadata": {
    "scrolled": true
   },
   "outputs": [
    {
     "data": {
      "text/html": [
       "<table class=\"data-frame\"><thead><tr><th></th><th>gene</th><th>knockdown</th><th>theo_phenotype</th><th>obs_phenotype</th><th>behavior</th><th>class</th><th>initial_freq</th><th>counts_bin1</th><th>barcodeid</th><th>freqs_bin1</th><th>rel_freqs_bin1</th><th>freqs_bin2</th><th>counts_bin2</th><th>rel_freqs_bin2</th><th>log2fc_bin2</th></tr></thead><tbody><tr><th>1</th><td>1</td><td>1.0</td><td>0.0</td><td>-Inf</td><td>sigmoidal</td><td>negcontrol</td><td>0.049185861795075454</td><td>1487.5</td><td>1</td><td>0.04945968412302577</td><td>1.3382816014394963</td><td>0.03392534122677191</td><td>1031.5</td><td>1.0563236047107016</td><td>-0.341329848055985</td></tr><tr><th>2</th><td>1</td><td>1.0</td><td>0.0</td><td>-Inf</td><td>sigmoidal</td><td>negcontrol</td><td>0.03762907069102462</td><td>1111.5</td><td>2</td><td>0.0369576059850374</td><td>1.0</td><td>0.03211642821904292</td><td>976.5</td><td>1.0</td><td>0.0</td></tr><tr><th>3</th><td>1</td><td>1.0</td><td>0.0</td><td>-Inf</td><td>sigmoidal</td><td>negcontrol</td><td>0.02635027799841144</td><td>778.5</td><td>3</td><td>0.025885286783042395</td><td>0.7004048582995952</td><td>0.01984870909389903</td><td>603.5</td><td>0.6180235535074246</td><td>-0.18052726918381723</td></tr><tr><th>4</th><td>2</td><td>1.0</td><td>0.0</td><td>-Inf</td><td>linear</td><td>inactive</td><td>0.02789912629070691</td><td>783.5</td><td>4</td><td>0.02605153782211139</td><td>0.7049032838506524</td><td>0.021920736720934055</td><td>666.5</td><td>0.6825396825396826</td><td>-0.04651240024340903</td></tr><tr><th>5</th><td>2</td><td>1.0</td><td>0.0</td><td>-Inf</td><td>linear</td><td>inactive</td><td>0.04841143764892772</td><td>1482.5</td><td>5</td><td>0.04929343308395678</td><td>1.3337831758884393</td><td>0.0356684755796744</td><td>1084.5</td><td>1.110599078341014</td><td>-0.26418605262089373</td></tr><tr><th>6</th><td>2</td><td>1.0</td><td>0.0</td><td>-Inf</td><td>linear</td><td>inactive</td><td>0.024463860206513106</td><td>727.5</td><td>6</td><td>0.024189526184538655</td><td>0.6545209176788125</td><td>0.019947377076138792</td><td>606.5</td><td>0.6210957501280082</td><td>-0.07562360353493768</td></tr><tr><th>7</th><td>3</td><td>1.0</td><td>0.0</td><td>-Inf</td><td>linear</td><td>inactive</td><td>0.04056791104050834</td><td>1210.5</td><td>7</td><td>0.04024937655860349</td><td>1.0890688259109313</td><td>0.030044400592007893</td><td>913.5</td><td>0.935483870967742</td><td>-0.21931044623124982</td></tr><tr><th>8</th><td>3</td><td>1.0</td><td>0.0</td><td>-Inf</td><td>linear</td><td>inactive</td><td>0.011834789515488484</td><td>360.5</td><td>8</td><td>0.01198669991687448</td><td>0.32433648223121914</td><td>0.008765005755632297</td><td>266.5</td><td>0.2729134664618536</td><td>-0.24904772734144828</td></tr><tr><th>9</th><td>3</td><td>1.0</td><td>0.0</td><td>-Inf</td><td>linear</td><td>inactive</td><td>0.02972597299444003</td><td>917.5</td><td>9</td><td>0.030507065669160432</td><td>0.8254610886189834</td><td>0.018270021378062818</td><td>555.5</td><td>0.568868407578085</td><td>-0.5371052472012849</td></tr><tr><th>10</th><td>4</td><td>1.0</td><td>0.0</td><td>-Inf</td><td>linear</td><td>inactive</td><td>0.014912629070691024</td><td>435.5</td><td>10</td><td>0.014480465502909393</td><td>0.39181286549707606</td><td>0.009784574905443183</td><td>297.5</td><td>0.3046594982078853</td><td>-0.3629670512633606</td></tr><tr><th>11</th><td>4</td><td>1.0</td><td>0.0</td><td>-Inf</td><td>linear</td><td>inactive</td><td>0.018030182684670375</td><td>515.5</td><td>11</td><td>0.0171404821280133</td><td>0.46378767431399015</td><td>0.011889491859891466</td><td>361.5</td><td>0.370199692780338</td><td>-0.32516078127679227</td></tr><tr><th>12</th><td>4</td><td>1.0</td><td>0.0</td><td>-Inf</td><td>linear</td><td>inactive</td><td>0.004249404289118348</td><td>129.5</td><td>12</td><td>0.00430590191188695</td><td>0.11650922177237968</td><td>0.0023515869100476897</td><td>71.5</td><td>0.07322068612391194</td><td>-0.670120951767966</td></tr><tr><th>13</th><td>5</td><td>0.0008448510306983195</td><td>0.0</td><td>-Inf</td><td>linear</td><td>inactive</td><td>0.03486894360603654</td><td>1078.5</td><td>13</td><td>0.03586034912718204</td><td>0.970310391363023</td><td>0.029057720769610263</td><td>883.5</td><td>0.9047619047619049</td><td>-0.1009081374686387</td></tr><tr><th>14</th><td>5</td><td>0.09154512483235476</td><td>0.0</td><td>-Inf</td><td>linear</td><td>inactive</td><td>0.01159650516282764</td><td>360.5</td><td>14</td><td>0.01198669991687448</td><td>0.32433648223121914</td><td>0.007942772570300937</td><td>241.5</td><td>0.24731182795698928</td><td>-0.3911600712648511</td></tr><tr><th>15</th><td>5</td><td>1.0</td><td>0.0</td><td>-Inf</td><td>linear</td><td>inactive</td><td>0.020830023828435264</td><td>631.5</td><td>15</td><td>0.020997506234413967</td><td>0.5681511470985156</td><td>0.015573096530175959</td><td>473.5</td><td>0.48489503328213013</td><td>-0.22860230917896887</td></tr><tr><th>16</th><td>6</td><td>1.0</td><td>-0.5250089253730865</td><td>-Inf</td><td>linear</td><td>decreasing</td><td>0.015865766481334392</td><td>483.5</td><td>16</td><td>0.01607647547797174</td><td>0.4349977507872245</td><td>0.0025160335471139613</td><td>76.5</td><td>0.07834101382488479</td><td>-2.4731682376439914</td></tr><tr><th>17</th><td>6</td><td>0.07040937510629075</td><td>-0.036965550360744254</td><td>-Inf</td><td>linear</td><td>decreasing</td><td>0.010166799046862589</td><td>315.5</td><td>17</td><td>0.010490440565253533</td><td>0.2838506522717049</td><td>0.0058707449432659105</td><td>178.5</td><td>0.18279569892473121</td><td>-0.6348999318132507</td></tr><tr><th>18</th><td>6</td><td>1.0</td><td>-0.5250089253730865</td><td>-Inf</td><td>linear</td><td>decreasing</td><td>0.038046068308181094</td><td>1165.5</td><td>18</td><td>0.038753117206982546</td><td>1.0485829959514172</td><td>0.011363262621279395</td><td>345.5</td><td>0.3538146441372248</td><td>-1.5673753896004097</td></tr><tr><th>19</th><td>7</td><td>1.0</td><td>0.0</td><td>-Inf</td><td>linear</td><td>inactive</td><td>0.07283558379666402</td><td>2214.5</td><td>19</td><td>0.07363258520365752</td><td>1.992352676563203</td><td>0.046686400263114616</td><td>1419.5</td><td>1.4536610343061955</td><td>-0.45478214902072644</td></tr><tr><th>20</th><td>7</td><td>1.0</td><td>0.0</td><td>-Inf</td><td>linear</td><td>inactive</td><td>0.010663224781572677</td><td>300.5</td><td>20</td><td>0.00999168744804655</td><td>0.2703553756185335</td><td>0.008830784410458805</td><td>268.5</td><td>0.2749615975422427</td><td>0.024373096414425397</td></tr><tr><th>21</th><td>7</td><td>1.0</td><td>0.0</td><td>-Inf</td><td>linear</td><td>inactive</td><td>0.005222398729150119</td><td>156.5</td><td>21</td><td>0.005203657522859518</td><td>0.1408007197480882</td><td>0.0036013813517513566</td><td>109.5</td><td>0.11213517665130569</td><td>-0.3284157881912467</td></tr><tr><th>22</th><td>8</td><td>1.0</td><td>0.0</td><td>-Inf</td><td>linear</td><td>inactive</td><td>0.06719618745035742</td><td>2023.5</td><td>22</td><td>0.06728179551122195</td><td>1.8205128205128207</td><td>0.04346324617661569</td><td>1321.5</td><td>1.3533026113671276</td><td>-0.4278604248876557</td></tr><tr><th>23</th><td>8</td><td>1.0</td><td>0.0</td><td>-Inf</td><td>linear</td><td>inactive</td><td>0.03754964257347101</td><td>1134.5</td><td>23</td><td>0.03772236076475478</td><td>1.0206927575348628</td><td>0.026755467850682453</td><td>813.5</td><td>0.8330773169482847</td><td>-0.29302635885961115</td></tr><tr><th>24</th><td>8</td><td>1.0</td><td>0.0</td><td>-Inf</td><td>linear</td><td>inactive</td><td>0.017573471008737095</td><td>544.5</td><td>24</td><td>0.018104738154613467</td><td>0.48987854251012153</td><td>0.014553527380365071</td><td>442.5</td><td>0.45314900153609833</td><td>-0.11243859460634896</td></tr><tr><th>25</th><td>9</td><td>1.0</td><td>0.0</td><td>-Inf</td><td>linear</td><td>inactive</td><td>0.027938840349483716</td><td>836.5</td><td>25</td><td>0.027813798836242725</td><td>0.7525865946918578</td><td>0.018664693307021873</td><td>567.5</td><td>0.58115719406042</td><td>-0.3729291487198767</td></tr><tr><th>26</th><td>9</td><td>1.0</td><td>0.0</td><td>-Inf</td><td>linear</td><td>inactive</td><td>0.04416203335980937</td><td>1324.5</td><td>26</td><td>0.04403990024937656</td><td>1.191632928475034</td><td>0.02981417530011511</td><td>906.5</td><td>0.9283154121863799</td><td>-0.36025291948526617</td></tr><tr><th>27</th><td>9</td><td>1.0</td><td>0.0</td><td>-Inf</td><td>linear</td><td>inactive</td><td>0.02414614773629865</td><td>675.5</td><td>27</td><td>0.022460515378221114</td><td>0.6077372919478183</td><td>0.018829139944088143</td><td>572.5</td><td>0.5862775217613928</td><td>-0.051864077201179914</td></tr><tr><th>28</th><td>10</td><td>1.0</td><td>0.17684410513128881</td><td>-Inf</td><td>linear</td><td>increasing</td><td>0.047795869737887214</td><td>1427.5</td><td>28</td><td>0.04746467165419784</td><td>1.2843004948268109</td><td>0.09756618977141918</td><td>2966.5</td><td>3.0378904249871996</td><td>1.2420870363499847</td></tr><tr><th>29</th><td>10</td><td>1.0</td><td>0.17684410513128881</td><td>-Inf</td><td>linear</td><td>increasing</td><td>0.03828435266084194</td><td>1147.5</td><td>29</td><td>0.03815461346633416</td><td>1.0323886639676114</td><td>0.0749712218385134</td><td>2279.5</td><td>2.3343573988735282</td><td>1.1770392547037933</td></tr><tr><th>30</th><td>10</td><td>1.0</td><td>0.17684410513128881</td><td>-Inf</td><td>linear</td><td>increasing</td><td>0.14199761715647338</td><td>4314.5</td><td>30</td><td>0.14345802161263507</td><td>3.881691408007198</td><td>0.29940799210656144</td><td>9103.5</td><td>9.322580645161292</td><td>1.2640439428396426</td></tr></tbody></table>"
      ],
      "text/plain": [
       "30×15 DataFrames.DataFrame\n",
       "│ Row │ gene │ knockdown │ theo_phenotype │ obs_phenotype │ behavior  │\n",
       "├─────┼──────┼───────────┼────────────────┼───────────────┼───────────┤\n",
       "│ 1   │ 1    │ 1.0       │ 0.0            │ -Inf          │ sigmoidal │\n",
       "│ 2   │ 1    │ 1.0       │ 0.0            │ -Inf          │ sigmoidal │\n",
       "│ 3   │ 1    │ 1.0       │ 0.0            │ -Inf          │ sigmoidal │\n",
       "│ 4   │ 2    │ 1.0       │ 0.0            │ -Inf          │ linear    │\n",
       "│ 5   │ 2    │ 1.0       │ 0.0            │ -Inf          │ linear    │\n",
       "│ 6   │ 2    │ 1.0       │ 0.0            │ -Inf          │ linear    │\n",
       "│ 7   │ 3    │ 1.0       │ 0.0            │ -Inf          │ linear    │\n",
       "│ 8   │ 3    │ 1.0       │ 0.0            │ -Inf          │ linear    │\n",
       "│ 9   │ 3    │ 1.0       │ 0.0            │ -Inf          │ linear    │\n",
       "│ 10  │ 4    │ 1.0       │ 0.0            │ -Inf          │ linear    │\n",
       "│ 11  │ 4    │ 1.0       │ 0.0            │ -Inf          │ linear    │\n",
       "⋮\n",
       "│ 19  │ 7    │ 1.0       │ 0.0            │ -Inf          │ linear    │\n",
       "│ 20  │ 7    │ 1.0       │ 0.0            │ -Inf          │ linear    │\n",
       "│ 21  │ 7    │ 1.0       │ 0.0            │ -Inf          │ linear    │\n",
       "│ 22  │ 8    │ 1.0       │ 0.0            │ -Inf          │ linear    │\n",
       "│ 23  │ 8    │ 1.0       │ 0.0            │ -Inf          │ linear    │\n",
       "│ 24  │ 8    │ 1.0       │ 0.0            │ -Inf          │ linear    │\n",
       "│ 25  │ 9    │ 1.0       │ 0.0            │ -Inf          │ linear    │\n",
       "│ 26  │ 9    │ 1.0       │ 0.0            │ -Inf          │ linear    │\n",
       "│ 27  │ 9    │ 1.0       │ 0.0            │ -Inf          │ linear    │\n",
       "│ 28  │ 10   │ 1.0       │ 0.176844       │ -Inf          │ linear    │\n",
       "│ 29  │ 10   │ 1.0       │ 0.176844       │ -Inf          │ linear    │\n",
       "│ 30  │ 10   │ 1.0       │ 0.176844       │ -Inf          │ linear    │\n",
       "\n",
       "│ Row │ class      │ initial_freq │ counts_bin1 │ barcodeid │ freqs_bin1 │\n",
       "├─────┼────────────┼──────────────┼─────────────┼───────────┼────────────┤\n",
       "│ 1   │ negcontrol │ 0.0491859    │ 1487.5      │ 1         │ 0.0494597  │\n",
       "│ 2   │ negcontrol │ 0.0376291    │ 1111.5      │ 2         │ 0.0369576  │\n",
       "│ 3   │ negcontrol │ 0.0263503    │ 778.5       │ 3         │ 0.0258853  │\n",
       "│ 4   │ inactive   │ 0.0278991    │ 783.5       │ 4         │ 0.0260515  │\n",
       "│ 5   │ inactive   │ 0.0484114    │ 1482.5      │ 5         │ 0.0492934  │\n",
       "│ 6   │ inactive   │ 0.0244639    │ 727.5       │ 6         │ 0.0241895  │\n",
       "│ 7   │ inactive   │ 0.0405679    │ 1210.5      │ 7         │ 0.0402494  │\n",
       "│ 8   │ inactive   │ 0.0118348    │ 360.5       │ 8         │ 0.0119867  │\n",
       "│ 9   │ inactive   │ 0.029726     │ 917.5       │ 9         │ 0.0305071  │\n",
       "│ 10  │ inactive   │ 0.0149126    │ 435.5       │ 10        │ 0.0144805  │\n",
       "│ 11  │ inactive   │ 0.0180302    │ 515.5       │ 11        │ 0.0171405  │\n",
       "⋮\n",
       "│ 19  │ inactive   │ 0.0728356    │ 2214.5      │ 19        │ 0.0736326  │\n",
       "│ 20  │ inactive   │ 0.0106632    │ 300.5       │ 20        │ 0.00999169 │\n",
       "│ 21  │ inactive   │ 0.0052224    │ 156.5       │ 21        │ 0.00520366 │\n",
       "│ 22  │ inactive   │ 0.0671962    │ 2023.5      │ 22        │ 0.0672818  │\n",
       "│ 23  │ inactive   │ 0.0375496    │ 1134.5      │ 23        │ 0.0377224  │\n",
       "│ 24  │ inactive   │ 0.0175735    │ 544.5       │ 24        │ 0.0181047  │\n",
       "│ 25  │ inactive   │ 0.0279388    │ 836.5       │ 25        │ 0.0278138  │\n",
       "│ 26  │ inactive   │ 0.044162     │ 1324.5      │ 26        │ 0.0440399  │\n",
       "│ 27  │ inactive   │ 0.0241461    │ 675.5       │ 27        │ 0.0224605  │\n",
       "│ 28  │ increasing │ 0.0477959    │ 1427.5      │ 28        │ 0.0474647  │\n",
       "│ 29  │ increasing │ 0.0382844    │ 1147.5      │ 29        │ 0.0381546  │\n",
       "│ 30  │ increasing │ 0.141998     │ 4314.5      │ 30        │ 0.143458   │\n",
       "\n",
       "│ Row │ rel_freqs_bin1 │ freqs_bin2 │ counts_bin2 │ rel_freqs_bin2 │\n",
       "├─────┼────────────────┼────────────┼─────────────┼────────────────┤\n",
       "│ 1   │ 1.33828        │ 0.0339253  │ 1031.5      │ 1.05632        │\n",
       "│ 2   │ 1.0            │ 0.0321164  │ 976.5       │ 1.0            │\n",
       "│ 3   │ 0.700405       │ 0.0198487  │ 603.5       │ 0.618024       │\n",
       "│ 4   │ 0.704903       │ 0.0219207  │ 666.5       │ 0.68254        │\n",
       "│ 5   │ 1.33378        │ 0.0356685  │ 1084.5      │ 1.1106         │\n",
       "│ 6   │ 0.654521       │ 0.0199474  │ 606.5       │ 0.621096       │\n",
       "│ 7   │ 1.08907        │ 0.0300444  │ 913.5       │ 0.935484       │\n",
       "│ 8   │ 0.324336       │ 0.00876501 │ 266.5       │ 0.272913       │\n",
       "│ 9   │ 0.825461       │ 0.01827    │ 555.5       │ 0.568868       │\n",
       "│ 10  │ 0.391813       │ 0.00978457 │ 297.5       │ 0.304659       │\n",
       "│ 11  │ 0.463788       │ 0.0118895  │ 361.5       │ 0.3702         │\n",
       "⋮\n",
       "│ 19  │ 1.99235        │ 0.0466864  │ 1419.5      │ 1.45366        │\n",
       "│ 20  │ 0.270355       │ 0.00883078 │ 268.5       │ 0.274962       │\n",
       "│ 21  │ 0.140801       │ 0.00360138 │ 109.5       │ 0.112135       │\n",
       "│ 22  │ 1.82051        │ 0.0434632  │ 1321.5      │ 1.3533         │\n",
       "│ 23  │ 1.02069        │ 0.0267555  │ 813.5       │ 0.833077       │\n",
       "│ 24  │ 0.489879       │ 0.0145535  │ 442.5       │ 0.453149       │\n",
       "│ 25  │ 0.752587       │ 0.0186647  │ 567.5       │ 0.581157       │\n",
       "│ 26  │ 1.19163        │ 0.0298142  │ 906.5       │ 0.928315       │\n",
       "│ 27  │ 0.607737       │ 0.0188291  │ 572.5       │ 0.586278       │\n",
       "│ 28  │ 1.2843         │ 0.0975662  │ 2966.5      │ 3.03789        │\n",
       "│ 29  │ 1.03239        │ 0.0749712  │ 2279.5      │ 2.33436        │\n",
       "│ 30  │ 3.88169        │ 0.299408   │ 9103.5      │ 9.32258        │\n",
       "\n",
       "│ Row │ log2fc_bin2 │\n",
       "├─────┼─────────────┤\n",
       "│ 1   │ -0.34133    │\n",
       "│ 2   │ 0.0         │\n",
       "│ 3   │ -0.180527   │\n",
       "│ 4   │ -0.0465124  │\n",
       "│ 5   │ -0.264186   │\n",
       "│ 6   │ -0.0756236  │\n",
       "│ 7   │ -0.21931    │\n",
       "│ 8   │ -0.249048   │\n",
       "│ 9   │ -0.537105   │\n",
       "│ 10  │ -0.362967   │\n",
       "│ 11  │ -0.325161   │\n",
       "⋮\n",
       "│ 19  │ -0.454782   │\n",
       "│ 20  │ 0.0243731   │\n",
       "│ 21  │ -0.328416   │\n",
       "│ 22  │ -0.42786    │\n",
       "│ 23  │ -0.293026   │\n",
       "│ 24  │ -0.112439   │\n",
       "│ 25  │ -0.372929   │\n",
       "│ 26  │ -0.360253   │\n",
       "│ 27  │ -0.0518641  │\n",
       "│ 28  │ 1.24209     │\n",
       "│ 29  │ 1.17704     │\n",
       "│ 30  │ 1.26404     │"
      ]
     },
     "execution_count": 65,
     "metadata": {},
     "output_type": "execute_result"
    }
   ],
   "source": [
    "bc_counts"
   ]
  }
 ],
 "metadata": {
  "kernelspec": {
   "display_name": "Julia 0.6.2",
   "language": "julia",
   "name": "julia-0.6"
  },
  "language_info": {
   "file_extension": ".jl",
   "mimetype": "application/julia",
   "name": "julia",
   "version": "0.6.2"
  }
 },
 "nbformat": 4,
 "nbformat_minor": 2
}
